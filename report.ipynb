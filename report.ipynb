{
 "cells": [
  {
   "cell_type": "markdown",
   "metadata": {},
   "source": [
    "# Report machine learning project : football match prediction\n",
    "**Authors**: Arradi Naoufal, Bienfait Méo, Bouchakour Younes, Sergent Pierre-Louis, Tadjer Badr\n",
    "\n",
    "https://github.com/PLsergent/football_match_prediction\n",
    "\n",
    "**Table of content**\n",
    "\n",
    "- [1. Subject](#1-subject)\n",
    "- [2. Dataset](#2-dataset)\n",
    "    - [2.1 Columns](#21-columns)\n",
    "    - [2.2 Game stats pre processing](#22-game-stats-pre-processing)\n",
    "    - [2.3 Collecting data](#23-collecting-data)\n",
    "\n",
    "- [3. Model training](#3-model-training)\n",
    "  - [3.1 Pre processing](#31-pre-processing)\n",
    "  - [3.2 Logistic Regression](#32-logistic-regression)\n",
    "  - [3.3 Other models](#33-others-models)\n",
    "  - [3.4 PCA](#34-pca)\n",
    "\n",
    "- [4. An other approach: binary classification](#4-an-other-approach-binary-classification)\n",
    "  - [4.1 Confusion matrix, evaluation](#41-confusion-matrix-evaluation)\n",
    "  - [4.2 Dataset modification](#42-dataset-modification)\n",
    "  - [4.3 Logistic Regression(2)](#43-logistic-regression2)\n",
    "\n",
    "- [5. Features importance](#5-features-importance)\n",
    "\n",
    "- [6. Final thoughts, conclusion](#6-final-thoughts-conclusion)\n",
    "\n",
    "\n",
    "\n",
    "## 1. Subject\n",
    "\n",
    "For our machine learning class we had to do a project. We decided to choose a subject that was interesting for everyone, since the majority of our group was into football we decided to find a problematic around this topic.\n",
    "\n",
    "The two ideas were:\n",
    "- predicting future football games results\n",
    "- predicting football games results based on stats\n",
    "\n",
    "The first subject appeared to be more complicated, both in terms of data gathering with different type of data (form of players, games roasters, previous game stats) and data analysis with several dataset to train.\n",
    "\n",
    "Thereby we chose the second topic. The idea would be to use supervised algorithms with game stats of passed matches, and then try to determine the winners/losers of other games. We could then assess which metric has the most influence on the results and **establish the best scenario to win a football game**.\n",
    "\n",
    "## 2. Dataset\n",
    "\n",
    "After looking for datasets online we thought it would be more useful to use an API instead. This way we have more control on our data and we could also extend our dataset at will by adding more stats.\n",
    "\n",
    "For this project we used the API of [Sportmonks](https://www.sportmonks.com/) as it provided the necessary stats with enough free calls per hour (180) to play around with the data. The code written to extract the data from the API is accessible in [this files](https://github.com/PLsergent/football_match_prediction/blob/main/sport_monks_api.py).\n",
    "\n",
    "Therefore we can use the class `SportmonksAPI(season_id: int, league_id: int)` that will get individually every game stats for a given season and league. The attribute `rows_data` will then contain a list of list of game stats.\n",
    "\n",
    "### 2.1 Columns\n",
    "\n",
    "**Shots**:\n",
    "- total\n",
    "- ongoal\n",
    "- offgoal\n",
    "- insidebox\n",
    "- outsidebox\n",
    "\n",
    "**Passes**:\n",
    "- total\n",
    "- percentage(of completed pass)\n",
    "\n",
    "**Attacks**:\n",
    "- total\n",
    "- dangerous\n",
    "\n",
    "**Others**:\n",
    "- Fouls\n",
    "- Corners\n",
    "- Possession_time\n",
    "- Yellow_cards\n",
    "- Red_cards\n",
    "- Saves\n",
    "- Substitutions\n",
    "- Tackles\n",
    "- Penalties\n",
    "- Injuries\n",
    "\n",
    "**Output**: win = 1, draw = 0, loss = -1\n",
    "\n",
    "### 2.2 Game stats pre processing\n",
    "\n",
    "*Included in the python code.*\n",
    "\n",
    "In order to have relevant data for our model, we will get all the stats for every game in a season, and then we will compare the two teams of each match by subtracting their stats to one another. Hence we can keep track of the dominance of each team in specific areas. Indeed we thought that the stats themselves would not be sufficient to train our model as we would lose the sense of \"confrontation\" between two teams. A team could win a game with 400 passes but lose the next game with the same amount of passes. A stat is relevant only when compared to the opposing team.\n",
    "\n",
    "So **each line** of our dataset represent in reality **the team stats minus the opposing team stats for this game**.\n",
    "\n",
    "**Example**:\n",
    "||round|passes|shots|attacks|penalties|red_cards|output|\n",
    "|-|-|-|-|-|-|-|-|\n",
    "|team a|1|200|3|10|0|0|1|\n",
    "|team b|1|-200|-3|-10|0|0|-1|\n",
    "\n",
    "Here the *team a* did 200 **more** passes than his opponent, and had 3 **more** shots.\n",
    "The *team b* did 200 **less** passes than his opponent, and had 3 **less** shots.\n",
    "\n",
    "### 2.3 Collecting data"
   ]
  },
  {
   "cell_type": "code",
   "execution_count": 1,
   "metadata": {},
   "outputs": [
    {
     "name": "stdout",
     "output_type": "stream",
     "text": [
      "Api call: page1 for rounds/season/17141\n",
      "Api call: page1 for fixtures/between/2020-08-01/2021-05-16\n",
      "Api call: page2 for fixtures/between/2020-08-01/2021-05-16\n",
      "Api call: page3 for fixtures/between/2020-08-01/2021-05-16\n",
      "Api call: page1 for rounds/season/17328\n",
      "Api call: page1 for fixtures/between/2020-09-11/2021-05-24\n",
      "Api call: page2 for fixtures/between/2020-09-11/2021-05-24\n",
      "Api call: page1 for rounds/season/16020\n",
      "Api call: page1 for fixtures/between/2019-07-12/2020-07-08\n",
      "Api call: page2 for fixtures/between/2019-07-12/2020-07-08\n",
      "Api call: page3 for fixtures/between/2019-07-12/2020-07-08\n"
     ]
    },
    {
     "data": {
      "text/html": [
       "<div>\n",
       "<style scoped>\n",
       "    .dataframe tbody tr th:only-of-type {\n",
       "        vertical-align: middle;\n",
       "    }\n",
       "\n",
       "    .dataframe tbody tr th {\n",
       "        vertical-align: top;\n",
       "    }\n",
       "\n",
       "    .dataframe thead th {\n",
       "        text-align: right;\n",
       "    }\n",
       "</style>\n",
       "<table border=\"1\" class=\"dataframe\">\n",
       "  <thead>\n",
       "    <tr style=\"text-align: right;\">\n",
       "      <th></th>\n",
       "      <th>team_ids</th>\n",
       "      <th>round_ids</th>\n",
       "      <th>shots_total</th>\n",
       "      <th>shots_ongoal</th>\n",
       "      <th>shots_offgoal</th>\n",
       "      <th>shots_insidebox</th>\n",
       "      <th>shots_outsidebox</th>\n",
       "      <th>passes_total</th>\n",
       "      <th>passes_percentage</th>\n",
       "      <th>attacks_total</th>\n",
       "      <th>...</th>\n",
       "      <th>corners</th>\n",
       "      <th>possession_time</th>\n",
       "      <th>yellow_cards</th>\n",
       "      <th>red_cards</th>\n",
       "      <th>saves</th>\n",
       "      <th>substitutions</th>\n",
       "      <th>tackles</th>\n",
       "      <th>penalties</th>\n",
       "      <th>injuries</th>\n",
       "      <th>results</th>\n",
       "    </tr>\n",
       "  </thead>\n",
       "  <tbody>\n",
       "    <tr>\n",
       "      <th>0</th>\n",
       "      <td>273</td>\n",
       "      <td>194968</td>\n",
       "      <td>-11</td>\n",
       "      <td>-2.0</td>\n",
       "      <td>-9.0</td>\n",
       "      <td>-4.0</td>\n",
       "      <td>-6.0</td>\n",
       "      <td>-202.0</td>\n",
       "      <td>-10.47</td>\n",
       "      <td>-18.0</td>\n",
       "      <td>...</td>\n",
       "      <td>-4.0</td>\n",
       "      <td>-22</td>\n",
       "      <td>1.0</td>\n",
       "      <td>1.0</td>\n",
       "      <td>2.0</td>\n",
       "      <td>3.0</td>\n",
       "      <td>-8.0</td>\n",
       "      <td>NaN</td>\n",
       "      <td>NaN</td>\n",
       "      <td>-1</td>\n",
       "    </tr>\n",
       "    <tr>\n",
       "      <th>1</th>\n",
       "      <td>62</td>\n",
       "      <td>194968</td>\n",
       "      <td>11</td>\n",
       "      <td>2.0</td>\n",
       "      <td>9.0</td>\n",
       "      <td>4.0</td>\n",
       "      <td>6.0</td>\n",
       "      <td>202.0</td>\n",
       "      <td>10.47</td>\n",
       "      <td>18.0</td>\n",
       "      <td>...</td>\n",
       "      <td>4.0</td>\n",
       "      <td>22</td>\n",
       "      <td>-1.0</td>\n",
       "      <td>-1.0</td>\n",
       "      <td>-2.0</td>\n",
       "      <td>-3.0</td>\n",
       "      <td>8.0</td>\n",
       "      <td>NaN</td>\n",
       "      <td>NaN</td>\n",
       "      <td>1</td>\n",
       "    </tr>\n",
       "    <tr>\n",
       "      <th>2</th>\n",
       "      <td>496</td>\n",
       "      <td>194968</td>\n",
       "      <td>-5</td>\n",
       "      <td>0.0</td>\n",
       "      <td>-5.0</td>\n",
       "      <td>-1.0</td>\n",
       "      <td>-5.0</td>\n",
       "      <td>-44.0</td>\n",
       "      <td>-5.46</td>\n",
       "      <td>-42.0</td>\n",
       "      <td>...</td>\n",
       "      <td>-3.0</td>\n",
       "      <td>-8</td>\n",
       "      <td>1.0</td>\n",
       "      <td>NaN</td>\n",
       "      <td>2.0</td>\n",
       "      <td>-1.0</td>\n",
       "      <td>-6.0</td>\n",
       "      <td>NaN</td>\n",
       "      <td>NaN</td>\n",
       "      <td>1</td>\n",
       "    </tr>\n",
       "    <tr>\n",
       "      <th>3</th>\n",
       "      <td>258</td>\n",
       "      <td>194968</td>\n",
       "      <td>5</td>\n",
       "      <td>0.0</td>\n",
       "      <td>5.0</td>\n",
       "      <td>1.0</td>\n",
       "      <td>5.0</td>\n",
       "      <td>44.0</td>\n",
       "      <td>5.46</td>\n",
       "      <td>42.0</td>\n",
       "      <td>...</td>\n",
       "      <td>3.0</td>\n",
       "      <td>8</td>\n",
       "      <td>-1.0</td>\n",
       "      <td>NaN</td>\n",
       "      <td>-2.0</td>\n",
       "      <td>1.0</td>\n",
       "      <td>6.0</td>\n",
       "      <td>NaN</td>\n",
       "      <td>NaN</td>\n",
       "      <td>-1</td>\n",
       "    </tr>\n",
       "    <tr>\n",
       "      <th>4</th>\n",
       "      <td>282</td>\n",
       "      <td>194968</td>\n",
       "      <td>4</td>\n",
       "      <td>-2.0</td>\n",
       "      <td>6.0</td>\n",
       "      <td>3.0</td>\n",
       "      <td>2.0</td>\n",
       "      <td>201.0</td>\n",
       "      <td>16.08</td>\n",
       "      <td>27.0</td>\n",
       "      <td>...</td>\n",
       "      <td>0.0</td>\n",
       "      <td>22</td>\n",
       "      <td>-3.0</td>\n",
       "      <td>NaN</td>\n",
       "      <td>0.0</td>\n",
       "      <td>0.0</td>\n",
       "      <td>-2.0</td>\n",
       "      <td>1.0</td>\n",
       "      <td>NaN</td>\n",
       "      <td>0</td>\n",
       "    </tr>\n",
       "    <tr>\n",
       "      <th>...</th>\n",
       "      <td>...</td>\n",
       "      <td>...</td>\n",
       "      <td>...</td>\n",
       "      <td>...</td>\n",
       "      <td>...</td>\n",
       "      <td>...</td>\n",
       "      <td>...</td>\n",
       "      <td>...</td>\n",
       "      <td>...</td>\n",
       "      <td>...</td>\n",
       "      <td>...</td>\n",
       "      <td>...</td>\n",
       "      <td>...</td>\n",
       "      <td>...</td>\n",
       "      <td>...</td>\n",
       "      <td>...</td>\n",
       "      <td>...</td>\n",
       "      <td>...</td>\n",
       "      <td>...</td>\n",
       "      <td>...</td>\n",
       "      <td>...</td>\n",
       "    </tr>\n",
       "    <tr>\n",
       "      <th>1277</th>\n",
       "      <td>1703</td>\n",
       "      <td>194388</td>\n",
       "      <td>-16</td>\n",
       "      <td>-4.0</td>\n",
       "      <td>-12.0</td>\n",
       "      <td>-10.0</td>\n",
       "      <td>-3.0</td>\n",
       "      <td>-289.0</td>\n",
       "      <td>-21.21</td>\n",
       "      <td>-55.0</td>\n",
       "      <td>...</td>\n",
       "      <td>-8.0</td>\n",
       "      <td>-38</td>\n",
       "      <td>NaN</td>\n",
       "      <td>NaN</td>\n",
       "      <td>2.0</td>\n",
       "      <td>1.0</td>\n",
       "      <td>1.0</td>\n",
       "      <td>NaN</td>\n",
       "      <td>1.0</td>\n",
       "      <td>-1</td>\n",
       "    </tr>\n",
       "    <tr>\n",
       "      <th>1278</th>\n",
       "      <td>1789</td>\n",
       "      <td>194388</td>\n",
       "      <td>-9</td>\n",
       "      <td>-4.0</td>\n",
       "      <td>-5.0</td>\n",
       "      <td>-6.0</td>\n",
       "      <td>-3.0</td>\n",
       "      <td>-264.0</td>\n",
       "      <td>-9.16</td>\n",
       "      <td>-31.0</td>\n",
       "      <td>...</td>\n",
       "      <td>-6.0</td>\n",
       "      <td>-28</td>\n",
       "      <td>0.0</td>\n",
       "      <td>NaN</td>\n",
       "      <td>2.0</td>\n",
       "      <td>-1.0</td>\n",
       "      <td>8.0</td>\n",
       "      <td>NaN</td>\n",
       "      <td>1.0</td>\n",
       "      <td>-1</td>\n",
       "    </tr>\n",
       "    <tr>\n",
       "      <th>1279</th>\n",
       "      <td>86</td>\n",
       "      <td>194388</td>\n",
       "      <td>9</td>\n",
       "      <td>4.0</td>\n",
       "      <td>5.0</td>\n",
       "      <td>6.0</td>\n",
       "      <td>3.0</td>\n",
       "      <td>264.0</td>\n",
       "      <td>9.16</td>\n",
       "      <td>31.0</td>\n",
       "      <td>...</td>\n",
       "      <td>6.0</td>\n",
       "      <td>28</td>\n",
       "      <td>0.0</td>\n",
       "      <td>NaN</td>\n",
       "      <td>-2.0</td>\n",
       "      <td>1.0</td>\n",
       "      <td>-8.0</td>\n",
       "      <td>NaN</td>\n",
       "      <td>-1.0</td>\n",
       "      <td>1</td>\n",
       "    </tr>\n",
       "    <tr>\n",
       "      <th>1280</th>\n",
       "      <td>2650</td>\n",
       "      <td>194388</td>\n",
       "      <td>1</td>\n",
       "      <td>-1.0</td>\n",
       "      <td>2.0</td>\n",
       "      <td>7.0</td>\n",
       "      <td>-3.0</td>\n",
       "      <td>-65.0</td>\n",
       "      <td>-4.16</td>\n",
       "      <td>10.0</td>\n",
       "      <td>...</td>\n",
       "      <td>-1.0</td>\n",
       "      <td>-10</td>\n",
       "      <td>NaN</td>\n",
       "      <td>NaN</td>\n",
       "      <td>0.0</td>\n",
       "      <td>1.0</td>\n",
       "      <td>-4.0</td>\n",
       "      <td>1.0</td>\n",
       "      <td>2.0</td>\n",
       "      <td>0</td>\n",
       "    </tr>\n",
       "    <tr>\n",
       "      <th>1281</th>\n",
       "      <td>390</td>\n",
       "      <td>194388</td>\n",
       "      <td>-1</td>\n",
       "      <td>1.0</td>\n",
       "      <td>-2.0</td>\n",
       "      <td>-7.0</td>\n",
       "      <td>3.0</td>\n",
       "      <td>65.0</td>\n",
       "      <td>4.16</td>\n",
       "      <td>-10.0</td>\n",
       "      <td>...</td>\n",
       "      <td>1.0</td>\n",
       "      <td>10</td>\n",
       "      <td>NaN</td>\n",
       "      <td>NaN</td>\n",
       "      <td>0.0</td>\n",
       "      <td>-1.0</td>\n",
       "      <td>4.0</td>\n",
       "      <td>-1.0</td>\n",
       "      <td>-2.0</td>\n",
       "      <td>0</td>\n",
       "    </tr>\n",
       "  </tbody>\n",
       "</table>\n",
       "<p>1282 rows × 22 columns</p>\n",
       "</div>"
      ],
      "text/plain": [
       "      team_ids  round_ids  shots_total  shots_ongoal  shots_offgoal  \\\n",
       "0          273     194968          -11          -2.0           -9.0   \n",
       "1           62     194968           11           2.0            9.0   \n",
       "2          496     194968           -5           0.0           -5.0   \n",
       "3          258     194968            5           0.0            5.0   \n",
       "4          282     194968            4          -2.0            6.0   \n",
       "...        ...        ...          ...           ...            ...   \n",
       "1277      1703     194388          -16          -4.0          -12.0   \n",
       "1278      1789     194388           -9          -4.0           -5.0   \n",
       "1279        86     194388            9           4.0            5.0   \n",
       "1280      2650     194388            1          -1.0            2.0   \n",
       "1281       390     194388           -1           1.0           -2.0   \n",
       "\n",
       "      shots_insidebox  shots_outsidebox  passes_total  passes_percentage  \\\n",
       "0                -4.0              -6.0        -202.0             -10.47   \n",
       "1                 4.0               6.0         202.0              10.47   \n",
       "2                -1.0              -5.0         -44.0              -5.46   \n",
       "3                 1.0               5.0          44.0               5.46   \n",
       "4                 3.0               2.0         201.0              16.08   \n",
       "...               ...               ...           ...                ...   \n",
       "1277            -10.0              -3.0        -289.0             -21.21   \n",
       "1278             -6.0              -3.0        -264.0              -9.16   \n",
       "1279              6.0               3.0         264.0               9.16   \n",
       "1280              7.0              -3.0         -65.0              -4.16   \n",
       "1281             -7.0               3.0          65.0               4.16   \n",
       "\n",
       "      attacks_total  ...  corners  possession_time  yellow_cards  red_cards  \\\n",
       "0             -18.0  ...     -4.0              -22           1.0        1.0   \n",
       "1              18.0  ...      4.0               22          -1.0       -1.0   \n",
       "2             -42.0  ...     -3.0               -8           1.0        NaN   \n",
       "3              42.0  ...      3.0                8          -1.0        NaN   \n",
       "4              27.0  ...      0.0               22          -3.0        NaN   \n",
       "...             ...  ...      ...              ...           ...        ...   \n",
       "1277          -55.0  ...     -8.0              -38           NaN        NaN   \n",
       "1278          -31.0  ...     -6.0              -28           0.0        NaN   \n",
       "1279           31.0  ...      6.0               28           0.0        NaN   \n",
       "1280           10.0  ...     -1.0              -10           NaN        NaN   \n",
       "1281          -10.0  ...      1.0               10           NaN        NaN   \n",
       "\n",
       "      saves  substitutions  tackles  penalties  injuries  results  \n",
       "0       2.0            3.0     -8.0        NaN       NaN       -1  \n",
       "1      -2.0           -3.0      8.0        NaN       NaN        1  \n",
       "2       2.0           -1.0     -6.0        NaN       NaN        1  \n",
       "3      -2.0            1.0      6.0        NaN       NaN       -1  \n",
       "4       0.0            0.0     -2.0        1.0       NaN        0  \n",
       "...     ...            ...      ...        ...       ...      ...  \n",
       "1277    2.0            1.0      1.0        NaN       1.0       -1  \n",
       "1278    2.0           -1.0      8.0        NaN       1.0       -1  \n",
       "1279   -2.0            1.0     -8.0        NaN      -1.0        1  \n",
       "1280    0.0            1.0     -4.0        1.0       2.0        0  \n",
       "1281    0.0           -1.0      4.0       -1.0      -2.0        0  \n",
       "\n",
       "[1282 rows x 22 columns]"
      ]
     },
     "execution_count": 1,
     "metadata": {},
     "output_type": "execute_result"
    }
   ],
   "source": [
    "# Collect data from API\n",
    "\n",
    "import pandas as pd\n",
    "from sport_monks_api import SportmonksAPI\n",
    "\n",
    "data2020_2021_scot = SportmonksAPI(season_id=17141).rows_data\n",
    "data2020_2021_dan = SportmonksAPI(season_id=17328, league_id=271).rows_data\n",
    "data2019_2020_dan = SportmonksAPI(season_id=16020, league_id=271).rows_data\n",
    "\n",
    "data = data2020_2021_scot + data2020_2021_dan + data2019_2020_dan\n",
    "\n",
    "\n",
    "# Create dataframe\n",
    "\n",
    "columns = [\"team_ids\", \"round_ids\", \"shots_total\", \"shots_ongoal\", \"shots_offgoal\", \"shots_insidebox\", \"shots_outsidebox\",\n",
    "\"passes_total\", \"passes_percentage\", \"attacks_total\", \"attacks_dangerous\", \"fouls\", \"corners\",\n",
    "\"possession_time\", \"yellow_cards\", \"red_cards\", \"saves\", \"substitutions\", \"tackles\", \"penalties\", \"injuries\", \"results\"]\n",
    "\n",
    "df = pd.DataFrame(data=data, columns=columns)\n",
    "\n",
    "\n",
    "# Export to .csv\n",
    "\n",
    "df.to_csv(\"./data/data_extended.csv\")\n",
    "\n",
    "df"
   ]
  },
  {
   "cell_type": "markdown",
   "metadata": {},
   "source": [
    "## 3. Model training\n",
    "\n",
    "*During our work we first used a dataframe with a shape of (456, 22), equivalent to a full season of 228 games. It appeared along the way that we needed more data. We then fetched 3 seasons resulting in a dataframe of 1282 rows, i.e. 641 games. The results were not significantly better with the second \"extended\" dataset but we will present our work based on this one as we mostly used it.*\n",
    "\n",
    "### 3.1 Pre processing\n",
    "\n",
    "As we created the dataset ourself the data cleaning was pretty straight forward. We had some null values but we knew that a null value could be replaced by 0 since it just meant that the stat didn't occur during the game. On the other hand, according to the way we build our dataset, the mean of the data of each column would be 0 anyway.\n",
    "\n",
    "Also, as we had only numerical values we didn't have to convert any values."
   ]
  },
  {
   "cell_type": "code",
   "execution_count": 2,
   "metadata": {},
   "outputs": [
    {
     "data": {
      "text/plain": [
       "team_ids             0\n",
       "round_ids            0\n",
       "shots_total          0\n",
       "shots_ongoal         0\n",
       "shots_offgoal        0\n",
       "shots_insidebox      0\n",
       "shots_outsidebox     0\n",
       "passes_total         0\n",
       "passes_percentage    0\n",
       "attacks_total        0\n",
       "attacks_dangerous    0\n",
       "fouls                0\n",
       "corners              0\n",
       "possession_time      0\n",
       "yellow_cards         0\n",
       "red_cards            0\n",
       "saves                0\n",
       "substitutions        0\n",
       "tackles              0\n",
       "penalties            0\n",
       "injuries             0\n",
       "results              0\n",
       "dtype: int64"
      ]
     },
     "execution_count": 2,
     "metadata": {},
     "output_type": "execute_result"
    }
   ],
   "source": [
    "df.fillna(0, inplace=True)\n",
    "df.isnull().sum()"
   ]
  },
  {
   "cell_type": "markdown",
   "metadata": {},
   "source": [
    "We also wrote a function that allow us to see the repartition of the outcome of the games."
   ]
  },
  {
   "cell_type": "code",
   "execution_count": 3,
   "metadata": {},
   "outputs": [
    {
     "name": "stdout",
     "output_type": "stream",
     "text": [
      "             total  percentage\n",
      "results                       \n",
      "draw           154        24.0\n",
      "win_or_loss    487        76.0\n",
      "\n",
      "Total games: 641.0\n"
     ]
    },
    {
     "data": {
      "image/png": "[encoded data removed]",
      "text/plain": [
       "<Figure size 432x288 with 1 Axes>"
      ]
     },
     "metadata": {
      "needs_background": "light"
     },
     "output_type": "display_data"
    }
   ],
   "source": [
    "%matplotlib inline\n",
    "import matplotlib.pyplot as plt\n",
    "\n",
    "def game_output_results(df_in=df):\n",
    "    df = pd.DataFrame()\n",
    "    df[\"total\"] = df_in.groupby(\"results\").size()\n",
    "\n",
    "    df.drop(index=-1, inplace=True)\n",
    "    df.rename(index={0: \"draw\", 1: \"win_or_loss\"}, inplace=True)\n",
    "\n",
    "    df.iloc[0][\"total\"] = df.iloc[0][\"total\"]/2\n",
    "\n",
    "    df[\"percentage\"] = round(df[\"total\"] / (df_in.shape[0]//2) * 100)\n",
    "\n",
    "    print(f\"{df}\\n\")\n",
    "    print(f\"Total games: {df_in.shape[0]/2}\")\n",
    "\n",
    "    df[\"total\"].plot(kind=\"bar\", title=\"Output of games\")\n",
    "    plt.show()\n",
    "\n",
    "game_output_results()"
   ]
  },
  {
   "cell_type": "markdown",
   "metadata": {},
   "source": [
    "We can see that we have 154 draw games and 487 decisive games (with a winner). We have significantly less draw games.\n",
    "\n",
    "*We actually tried to extend our data by duplicating draw games rows in order to have the same amount of draw/win or loss. But it didn't really improve our model so we will not mention it in details.*\n",
    "\n",
    "We can then define our predictors. Note that after a few tries we remove the following columns `{\"substitutions\", \"injuries\", \"tackles\", \"fouls\", \"yellow_cards\"}` since we thought they wouldn't bring any value to the prediction."
   ]
  },
  {
   "cell_type": "code",
   "execution_count": 4,
   "metadata": {},
   "outputs": [
    {
     "name": "stdout",
     "output_type": "stream",
     "text": [
      "['attacks_dangerous', 'attacks_total', 'corners', 'passes_percentage', 'passes_total', 'penalties', 'possession_time', 'red_cards', 'saves', 'shots_insidebox', 'shots_offgoal', 'shots_ongoal', 'shots_outsidebox', 'shots_total']\n"
     ]
    }
   ],
   "source": [
    "predictors = df.columns[2:-1]\n",
    "col_to_remove = {\"substitutions\", \"injuries\", \"tackles\", \"fouls\", \"yellow_cards\"}\n",
    "predictors = list(set(predictors) - col_to_remove)\n",
    "print(sorted(predictors))"
   ]
  },
  {
   "cell_type": "markdown",
   "metadata": {},
   "source": [
    "### 3.2 Logistic Regression\n",
    "\n",
    "We then proceed to train our dataset, first with the Logistic Regression algorithm. Nothing particular here, despite the fact that we had to change the solver to `newton-cg` in order to support multiclass classification and also the multi_class parameter to `multinomial`."
   ]
  },
  {
   "cell_type": "code",
   "execution_count": 5,
   "metadata": {},
   "outputs": [
    {
     "name": "stdout",
     "output_type": "stream",
     "text": [
      "train shape (897, 14) (897, 1)\n",
      "test shape (385, 14) (385, 1)\n",
      "train accuracy = 0.6633221850613155\n",
      "test accuracy = 0.6571428571428571\n"
     ]
    }
   ],
   "source": [
    "from sklearn.linear_model import LogisticRegression\n",
    "from sklearn.model_selection import train_test_split\n",
    "\n",
    "y = pd.DataFrame(data=df[\"results\"])\n",
    "x = pd.DataFrame(data=df[predictors])\n",
    "\n",
    "X_train, X_test, y_train, y_test = train_test_split(x, y, test_size=0.3, random_state=1)\n",
    "\n",
    "print (\"train shape\", X_train.shape, y_train.shape)\n",
    "print (\"test shape\", X_test.shape, y_test.shape)\n",
    "\n",
    "clf = LogisticRegression(random_state=1, solver=\"newton-cg\", multi_class=\"multinomial\")\n",
    "clf.fit(X_train, y_train.values.ravel())\n",
    "\n",
    "train_score = clf.score(X_train, y_train)\n",
    "test_score = clf.score(X_test, y_test)\n",
    "\n",
    "print ('train accuracy =', train_score)\n",
    "print ('test accuracy =', test_score)"
   ]
  },
  {
   "cell_type": "markdown",
   "metadata": {},
   "source": [
    "We have a test accuracy of 65% which is pretty low, although it's not that bad considering that a random algorithm would get around 33%. To confirm this result we used the cross validation."
   ]
  },
  {
   "cell_type": "code",
   "execution_count": 6,
   "metadata": {},
   "outputs": [
    {
     "name": "stdout",
     "output_type": "stream",
     "text": [
      "Mean: 0.6551659399224806\n"
     ]
    }
   ],
   "source": [
    "from sklearn.model_selection import cross_val_score\n",
    "\n",
    "scores = cross_val_score(clf, df[predictors], df[\"results\"], scoring='accuracy', cv=10)\n",
    "print(\"Mean:\", scores.mean())"
   ]
  },
  {
   "cell_type": "markdown",
   "metadata": {},
   "source": [
    "We found roughly the same accuracy with 65%. At this point we wanted to try other algorithm to see if we could find a better accuracy. Also other models provide a `feature_importances_` attribute that could help use to determine the most important stat in a football game."
   ]
  },
  {
   "cell_type": "markdown",
   "metadata": {},
   "source": [
    "### 3.3 Others models\n",
    "\n",
    "| Model                   | Train acc | Test acc | Feature importance                                       |\n",
    "|-------------------------|-----------|----------|----------------------------------------------------------|\n",
    "| Decision Tree           | 0.63      | 0.62     | shots_ongoal, saves                                      |\n",
    "| Gradient Boosting       | 0.64      | 0.63     | shots_ongoal, saves                                      |\n",
    "| K-nearest neighbors     | 0.49      | 0.45     | /                                                        |\n",
    "| Random Forest           | 0.78      | 0.64     | shots_ongoal, shots_total, shots_insidebox, passes_total |\n",
    "| Support-vector Machine  | 0.51      | 0.49     | /                                                        |\n",
    "\n",
    "We can see that despite SVM and KNN we got similar result in term of accuracy.\n",
    "\n",
    "*Note that we used GridSearch for Decision Tree, Gradient Boosting, and Random Forest algorithms. But for the purpose of the report we will not detail the code and give directly the parameters we found.*"
   ]
  },
  {
   "cell_type": "code",
   "execution_count": 7,
   "metadata": {},
   "outputs": [
    {
     "name": "stdout",
     "output_type": "stream",
     "text": [
      "[Decision Tree] train accuracy = 0.6376811594202898\n",
      "[Decision Tree] test accuracy = 0.6285714285714286 \n",
      "\n",
      "[Random Forest] train accuracy = 0.7736900780379041\n",
      "[Random Forest] test accuracy = 0.6363636363636364 \n",
      "\n",
      "[Gradient Boosting] train accuracy = 0.6443701226309922\n",
      "[Gradient Boosting] test accuracy = 0.6415584415584416\n"
     ]
    }
   ],
   "source": [
    "from sklearn.ensemble import RandomForestClassifier\n",
    "from sklearn.tree import DecisionTreeClassifier\n",
    "from sklearn.ensemble import GradientBoostingClassifier\n",
    "\n",
    "\n",
    "clf_dt = DecisionTreeClassifier(random_state=1, max_depth=4, min_samples_leaf=25, min_samples_split=10)\n",
    "\n",
    "clf_dt.fit(X_train, y_train.values.ravel())\n",
    "print ('[Decision Tree] train accuracy =', clf_dt.score(X_train, y_train))\n",
    "print ('[Decision Tree] test accuracy =', clf_dt.score(X_test, y_test), \"\\n\")\n",
    "\n",
    "##\n",
    "\n",
    "clf_rf = RandomForestClassifier(random_state=1, max_depth=8, min_samples_leaf=4, min_samples_split=8, n_estimators=40)\n",
    "\n",
    "clf_rf.fit(X_train, y_train.values.ravel())\n",
    "print ('[Random Forest] train accuracy =', clf_rf.score(X_train, y_train))\n",
    "print ('[Random Forest] test accuracy =', clf_rf.score(X_test, y_test), \"\\n\")\n",
    "\n",
    "##\n",
    "\n",
    "clf_gb = GradientBoostingClassifier(random_state=1, max_depth=3, min_samples_leaf=1, min_samples_split=2, n_estimators=10)\n",
    "\n",
    "clf_gb.fit(X_train, y_train.values.ravel())\n",
    "print ('[Gradient Boosting] train accuracy =', clf_gb.score(X_train, y_train))\n",
    "print ('[Gradient Boosting] test accuracy =', clf_gb.score(X_test, y_test))"
   ]
  },
  {
   "cell_type": "markdown",
   "metadata": {},
   "source": [
    "### 3.4 PCA\n",
    "\n",
    "Since we got 65% accuracy among all the algorithm we finally tried to use the principal component analysis. The idea is to do a dimensional reduction in order to obtain lower-dimensional data while preserving as much of its relevancy.\n",
    "\n",
    "*Note that during our research we used two methods to perform the PCA, we're going to present the easier one.*\n",
    "\n",
    "We first need to standardize our dataset by removing the mean and scaling to unit variance. We'll use the sklearn class `StandardScaler`. The actual formula to apply is the following:\n",
    "\n",
    "```\n",
    "z = (x - u) / s\n",
    "```\n",
    "\n",
    "- z: standardized dataset\n",
    "- x: dataset\n",
    "- u: mean\n",
    "- s: standard deviation"
   ]
  },
  {
   "cell_type": "code",
   "execution_count": 8,
   "metadata": {},
   "outputs": [],
   "source": [
    "from sklearn.preprocessing import StandardScaler\n",
    "\n",
    "scaler = StandardScaler()\n",
    "# Fit on training set only.\n",
    "scaler.fit(X_train)\n",
    "# Apply transform to both the training set and the test set.\n",
    "X_train_standard = scaler.transform(X_train)\n",
    "X_test_standard = scaler.transform(X_test)"
   ]
  },
  {
   "cell_type": "markdown",
   "metadata": {},
   "source": [
    "We can then use the class `PCA` also from sklearn library and pass the argument .95 in order to have enough principal components to reach a variance of 0.95. We can then fit and transform our train set."
   ]
  },
  {
   "cell_type": "code",
   "execution_count": 9,
   "metadata": {},
   "outputs": [],
   "source": [
    "from sklearn.decomposition import PCA\n",
    "\n",
    "pca = PCA(.95)\n",
    "pca.fit(X_train_standard)\n",
    "\n",
    "X_train_transformed = pca.transform(X_train_standard)\n",
    "X_test_transformed = pca.transform(X_test_standard)"
   ]
  },
  {
   "cell_type": "markdown",
   "metadata": {},
   "source": [
    "*See also method fit_transform() to do both above operation at once.*\n",
    "\n",
    "We can then use the Logistic Regression with the transformed data."
   ]
  },
  {
   "cell_type": "code",
   "execution_count": 10,
   "metadata": {},
   "outputs": [
    {
     "name": "stdout",
     "output_type": "stream",
     "text": [
      "train accuracy = 0.5696767001114827\n",
      "test accuracy = 0.5922077922077922\n"
     ]
    }
   ],
   "source": [
    "clf_pca = LogisticRegression(random_state=1, solver='newton-cg', multi_class=\"multinomial\")\n",
    "clf_pca.fit(X_train_transformed, y_train.values.ravel())\n",
    "\n",
    "print ('train accuracy =', clf_pca.score(X_train_transformed, y_train))\n",
    "print ('test accuracy =', clf_pca.score(X_test_transformed, y_test))"
   ]
  },
  {
   "cell_type": "markdown",
   "metadata": {},
   "source": [
    "To conclude on this topic we can see that the accuracy is not better maybe because our dataset is not well suited for a PCA. In our case we'll just keep using the normal dataset. "
   ]
  },
  {
   "cell_type": "markdown",
   "metadata": {},
   "source": [
    "## 4. An other approach: binary classification\n",
    "\n",
    "### 4.1 Confusion matrix, evaluation\n",
    "\n",
    "Let's we go back to our first [Logistic Regression](#logistic-regression) model. We found a test accuracy and cross validation score of 65%. In order to understand those results we'll build a confusion matrix.\n",
    "\n",
    "Unlike the confusion matrix used for binary classification problems with *TP, FN, FP, TN*, we have here 3 columns and 3 rows. The rows represent the actual values and the columns the predicted values. Hence we can calculate the precision, recall and f1-score for each cell of our table.\n",
    "\n",
    "Let's dive into the confusion matrix itself to explain it.\n",
    "\n",
    "*We used seaborn heatmap to display the matrix, and homemade code to display the values in each cell.*"
   ]
  },
  {
   "cell_type": "code",
   "execution_count": 11,
   "metadata": {},
   "outputs": [
    {
     "name": "stdout",
     "output_type": "stream",
     "text": [
      "[[127  10  11]\n",
      " [ 57   5  34]\n",
      " [ 15   5 121]]\n",
      "              precision    recall  f1-score   support\n",
      "\n",
      "          -1       0.64      0.86      0.73       148\n",
      "           0       0.25      0.05      0.09        96\n",
      "           1       0.73      0.86      0.79       141\n",
      "\n",
      "    accuracy                           0.66       385\n",
      "   macro avg       0.54      0.59      0.54       385\n",
      "weighted avg       0.57      0.66      0.59       385\n",
      "\n"
     ]
    },
    {
     "data": {
      "text/plain": [
       "[Text(0.5, 51.0, 'predicted'), Text(51.0, 0.5, 'actual')]"
      ]
     },
     "execution_count": 11,
     "metadata": {},
     "output_type": "execute_result"
    },
    {
     "data": {
      "image/png": "[encoded data removed]",
      "text/plain": [
       "<Figure size 576x576 with 2 Axes>"
      ]
     },
     "metadata": {
      "needs_background": "light"
     },
     "output_type": "display_data"
    }
   ],
   "source": [
    "from sklearn import metrics\n",
    "import seaborn as sns\n",
    "import numpy as np\n",
    "\n",
    "# predict class labels for the test set\n",
    "y_pred = clf.predict(X_test)\n",
    "\n",
    "cf_matrix = metrics.confusion_matrix(y_test, y_pred)\n",
    "print(cf_matrix)\n",
    "\n",
    "print(metrics.classification_report(y_test, y_pred))\n",
    "\n",
    "df_cm = pd.DataFrame(cf_matrix, index = [i for i in [\"-1\", \"0\", \"1\"]],\n",
    "                  columns = [i for i in [\"-1\", \"0\", \"1\"]])\n",
    "\n",
    "group_names = [\"True\", \"False\", \"False\", \"False\", \"True\", \"False\", \"False\", \"False\", \"True\"]\n",
    "\n",
    "group_counts = [\"{0:0.0f}\".format(value) for value in\n",
    "                cf_matrix.flatten()]\n",
    "\n",
    "recalls = []\n",
    "for values in cf_matrix:\n",
    "\trow = []\n",
    "\tfor val in values:\n",
    "\t\trow.append(f\"recall: {val/values.sum():.2%}\")\n",
    "\trecalls += row\n",
    "\n",
    "precisions = []\n",
    "cf_vals = {}\n",
    "for i, values in enumerate(cf_matrix):\n",
    "\tcf_vals[i] = values\n",
    "\n",
    "for x, y, z in zip(cf_vals[0], cf_vals[1], cf_vals[2]):\n",
    "\trow = []\n",
    "\tvalues = [x, y, z]\n",
    "\n",
    "\tfor val in values:\n",
    "\t\trow.append(f\"precision: {val/sum(values):.2%}\")\n",
    "\tprecisions += row\n",
    "\n",
    "\n",
    "labels = [f\"{v1}\\n{v2}\\n{v3}\\n{v4}\" for v1, v2, v3, v4 in\n",
    "          zip(group_names, group_counts, recalls, precisions)]\n",
    "\n",
    "labels = np.asarray(labels).reshape(3,3)\n",
    "\n",
    "fig, ax = plt.subplots(figsize=(8, 8))  \n",
    "cf = sns.heatmap(df_cm, annot=labels, fmt=\"\", cmap='Blues')\n",
    "cf.set(xlabel=\"predicted\", ylabel=\"actual\")"
   ]
  },
  {
   "cell_type": "markdown",
   "metadata": {},
   "source": [
    "So if we read the heatmap (first row) we can see that 127 loss predictions were right, although the model incorrectly predicted 10 loss games to be draws and 11 others to be wins.\n",
    "\n",
    "Looking at the first column now, 127 loss predictions were right (as before), while 57 draw games were incorrectly predicted to be losses, and 15 wins were incorrectly predicted to be losses.\n",
    "\n",
    "To summarize, if you take any cell of the table by reading the x-axis first, you can say:\n",
    "> The model predicted {value} games to be {x-axis value}, while they were in reality {y-axis value}.\n",
    "\n",
    "If you read the y-axis first you can say:\n",
    "> {value} games that were {y-axis value}, were predicted to be {x-axis value} instead.\n",
    "\n",
    "---\n",
    "\n",
    "As you can understand the values on the diagonal represent the correct predictions. We can then find the precision, recall and f1-score.\n",
    "\n",
    "|output |precision  |  recall | f1-score  | support|\n",
    "|-------|-----------|---------|-----------|--------|\n",
    "| -1    |   0.64    |  0.86   |   0.73    |   148  |\n",
    "| 0     |   0.25    |  0.05   |   0.09    |    96  |\n",
    "| 1     |   0.73    |  0.86   |   0.79    |   141  |\n",
    "\n",
    "---\n",
    "\n",
    "Based on this table we can clearly assess that the draw games are tough to predict for the algorithm.\n",
    "We'll try to explain later why we think this result could be expected, but we can also say that the amount of draw games in our dataset is too low to have correct predictions.\n",
    "\n",
    "Therefore the draw games are the reason why we have bad accuracy, that's why we decided to get rid of the draws in the dataset and make a binary classification with the outputs being win or loss. Since our goal is to establish the most important stats to win a football game we concluded that it was the best solution."
   ]
  },
  {
   "cell_type": "markdown",
   "metadata": {},
   "source": [
    "### 4.2 Dataset modification\n",
    "\n",
    "As explained above we want to delete every row with a result equal to 0."
   ]
  },
  {
   "cell_type": "code",
   "execution_count": 12,
   "metadata": {},
   "outputs": [
    {
     "name": "stdout",
     "output_type": "stream",
     "text": [
      "(974, 22)\n"
     ]
    },
    {
     "data": {
      "text/plain": [
       "0"
      ]
     },
     "execution_count": 12,
     "metadata": {},
     "output_type": "execute_result"
    }
   ],
   "source": [
    "df_wo_draw = df.drop(df[df.results == 0].index)\n",
    "print(df_wo_draw.shape)\n",
    "df_wo_draw.loc[df_wo_draw[\"results\"] == 0, \"results\"].sum()"
   ]
  },
  {
   "cell_type": "markdown",
   "metadata": {},
   "source": [
    "Now we only have wins: 1 or loses: -1, in our dataset."
   ]
  },
  {
   "cell_type": "markdown",
   "metadata": {},
   "source": [
    "### 4.3 Logistic Regression(2)\n",
    "\n",
    "We then apply the Logistic Regression to our new dataset."
   ]
  },
  {
   "cell_type": "code",
   "execution_count": 13,
   "metadata": {},
   "outputs": [
    {
     "name": "stdout",
     "output_type": "stream",
     "text": [
      "train shape (681, 14) (681, 1)\n",
      "test shape (293, 14) (293, 1)\n",
      "train accuracy = 0.8634361233480177\n",
      "test accuracy = 0.8907849829351536\n"
     ]
    }
   ],
   "source": [
    "y = pd.DataFrame(data=df_wo_draw[\"results\"])\n",
    "x = pd.DataFrame(data=df_wo_draw[predictors])\n",
    "\n",
    "X_train, X_test, y_train, y_test = train_test_split(x, y, test_size=0.3, random_state=121 )\n",
    "\n",
    "print (\"train shape\", X_train.shape, y_train.shape)\n",
    "print (\"test shape\", X_test.shape, y_test.shape)\n",
    "\n",
    "clf_wo_draw = LogisticRegression(random_state=1, solver=\"liblinear\")\n",
    "clf_wo_draw.fit(X_train, y_train.values.ravel())\n",
    "\n",
    "print ('train accuracy =', clf_wo_draw.score(X_train, y_train))\n",
    "print ('test accuracy =', clf_wo_draw.score(X_test, y_test))"
   ]
  },
  {
   "cell_type": "markdown",
   "metadata": {},
   "source": [
    "We now have very good results with almost 90% of test accuracy. Let's confirm those results by doing a cross validation. "
   ]
  },
  {
   "cell_type": "code",
   "execution_count": 14,
   "metadata": {},
   "outputs": [
    {
     "name": "stdout",
     "output_type": "stream",
     "text": [
      "[0.93877551 0.87755102 0.87755102 0.87755102 0.87628866 0.83505155\n",
      " 0.72164948 0.78350515 0.90721649 0.88659794]\n",
      "Mean: 0.8581737849779086\n"
     ]
    }
   ],
   "source": [
    "scores = cross_val_score(clf_wo_draw, df_wo_draw[predictors], df_wo_draw[\"results\"], scoring='accuracy', cv=10)\n",
    "print(scores)\n",
    "print(\"Mean:\", scores.mean())"
   ]
  },
  {
   "cell_type": "markdown",
   "metadata": {},
   "source": [
    "We find 85% of accuracy this way. Finally we'll display once again a confusion matrix."
   ]
  },
  {
   "cell_type": "code",
   "execution_count": 15,
   "metadata": {},
   "outputs": [
    {
     "name": "stdout",
     "output_type": "stream",
     "text": [
      "              precision    recall  f1-score   support\n",
      "\n",
      "          -1       0.92      0.87      0.89       150\n",
      "           1       0.87      0.92      0.89       143\n",
      "\n",
      "    accuracy                           0.89       293\n",
      "   macro avg       0.89      0.89      0.89       293\n",
      "weighted avg       0.89      0.89      0.89       293\n",
      "\n"
     ]
    },
    {
     "data": {
      "image/png": "[encoded data removed]",
      "text/plain": [
       "<Figure size 576x576 with 2 Axes>"
      ]
     },
     "metadata": {
      "needs_background": "light"
     },
     "output_type": "display_data"
    }
   ],
   "source": [
    "y_pred = clf_wo_draw.predict(X_test)\n",
    "\n",
    "cf_matrix = metrics.confusion_matrix(y_test, y_pred)\n",
    "\n",
    "group_names = [\"True Neg\", \"False Pos\", \"False Neg\", \"True Pos\"]\n",
    "\n",
    "group_counts = [\"{0:0.0f}\".format(value) for value in\n",
    "                cf_matrix.flatten()]\n",
    "\t\t\t\t\n",
    "group_percentages = [\"{0:.2%}\".format(value) for value in\n",
    "                     cf_matrix.flatten()/np.sum(cf_matrix)]\n",
    "\t\t\t\n",
    "labels = [f\"{v1}\\n{v2}\\n{v3}\" for v1, v2, v3 in\n",
    "          zip(group_names, group_counts, group_percentages)]\n",
    "\n",
    "labels = np.asarray(labels).reshape(2,2)\n",
    "\n",
    "fig, ax = plt.subplots(figsize=(8, 8))  \n",
    "sns.heatmap(cf_matrix, annot=labels, fmt=\"\", cmap='Blues')\n",
    "print(metrics.classification_report(y_test, y_pred))"
   ]
  },
  {
   "cell_type": "markdown",
   "metadata": {},
   "source": [
    "## 5. Features importance\n",
    "\n",
    "To answer our problematic we figure out that it would be more relevant to use this new dataset without the draws since our goal is to find the best scenario to **win** a football game, based on stats.\n",
    "\n",
    "Let's first re-run our algorithms with the new dataset (we slightly tuned the parameters manually)."
   ]
  },
  {
   "cell_type": "code",
   "execution_count": 16,
   "metadata": {},
   "outputs": [
    {
     "name": "stdout",
     "output_type": "stream",
     "text": [
      "[Decision Tree] train accuracy = 0.8223201174743024\n",
      "[Decision Tree] test accuracy = 0.8327645051194539 \n",
      "\n",
      "[Random Forest] train accuracy = 0.8091042584434655\n",
      "[Random Forest] test accuracy = 0.8088737201365188 \n",
      "\n",
      "[Gradient Boosting] train accuracy = 0.8399412628487518\n",
      "[Gradient Boosting] test accuracy = 0.8191126279863481\n"
     ]
    }
   ],
   "source": [
    "clf_dt = DecisionTreeClassifier(random_state=1, max_depth=4, min_samples_leaf=20, min_samples_split=8)\n",
    "\n",
    "clf_dt.fit(X_train, y_train.values.ravel())\n",
    "print ('[Decision Tree] train accuracy =', clf_dt.score(X_train, y_train))\n",
    "print ('[Decision Tree] test accuracy =', clf_dt.score(X_test, y_test), \"\\n\")\n",
    "\n",
    "##\n",
    "\n",
    "clf_rf = RandomForestClassifier(random_state=1, max_depth=6, min_samples_leaf=20, min_samples_split=8, n_estimators=30)\n",
    "\n",
    "clf_rf.fit(X_train, y_train.values.ravel())\n",
    "print ('[Random Forest] train accuracy =', clf_rf.score(X_train, y_train))\n",
    "print ('[Random Forest] test accuracy =', clf_rf.score(X_test, y_test), \"\\n\")\n",
    "\n",
    "##\n",
    "\n",
    "clf_gb = GradientBoostingClassifier(random_state=1, max_depth=3, min_samples_leaf=1, min_samples_split=2, n_estimators=10)\n",
    "\n",
    "clf_gb.fit(X_train, y_train.values.ravel())\n",
    "print ('[Gradient Boosting] train accuracy =', clf_gb.score(X_train, y_train))\n",
    "print ('[Gradient Boosting] test accuracy =', clf_gb.score(X_test, y_test))"
   ]
  },
  {
   "cell_type": "markdown",
   "metadata": {},
   "source": [
    "And now lets use the parameter `feature_importances_` to display the most relevant features."
   ]
  },
  {
   "cell_type": "code",
   "execution_count": 17,
   "metadata": {},
   "outputs": [
    {
     "data": {
      "text/plain": [
       "<AxesSubplot:title={'center':'Gradient Boosting'}>"
      ]
     },
     "execution_count": 17,
     "metadata": {},
     "output_type": "execute_result"
    },
    {
     "data": {
      "image/png": "[encoded data removed]",
      "text/plain": [
       "<Figure size 432x288 with 1 Axes>"
      ]
     },
     "metadata": {
      "needs_background": "light"
     },
     "output_type": "display_data"
    },
    {
     "data": {
      "image/png": "[encoded data removed]",
      "text/plain": [
       "<Figure size 432x288 with 1 Axes>"
      ]
     },
     "metadata": {
      "needs_background": "light"
     },
     "output_type": "display_data"
    },
    {
     "data": {
      "image/png": "[encoded data removed]",
      "text/plain": [
       "<Figure size 432x288 with 1 Axes>"
      ]
     },
     "metadata": {
      "needs_background": "light"
     },
     "output_type": "display_data"
    }
   ],
   "source": [
    "feat_imp_dt = pd.DataFrame(clf_dt.feature_importances_, predictors, columns=['Importance'])\n",
    "feat_imp_dt.sort_values('Importance', ascending=True).plot(kind=\"barh\", title=\"Decision Tree\")\n",
    "\n",
    "##\n",
    "\n",
    "feat_imp_rf = pd.DataFrame(clf_rf.feature_importances_, predictors, columns=['Importance'])\n",
    "feat_imp_rf.sort_values('Importance', ascending=True).plot(kind=\"barh\", title=\"Random Forest\")\n",
    "\n",
    "##\n",
    "\n",
    "feat_imp_gb = pd.DataFrame(clf_gb.feature_importances_, predictors, columns=['Importance'])\n",
    "feat_imp_gb.sort_values('Importance', ascending=True).plot(kind=\"barh\", title=\"Gradient Boosting\")"
   ]
  },
  {
   "cell_type": "markdown",
   "metadata": {},
   "source": [
    "Let's also display the Logistic Regression coef importances."
   ]
  },
  {
   "cell_type": "code",
   "execution_count": 18,
   "metadata": {},
   "outputs": [
    {
     "data": {
      "text/plain": [
       "<BarContainer object of 14 artists>"
      ]
     },
     "execution_count": 18,
     "metadata": {},
     "output_type": "execute_result"
    },
    {
     "data": {
      "image/png": "[encoded data removed]",
      "text/plain": [
       "<Figure size 432x288 with 1 Axes>"
      ]
     },
     "metadata": {
      "needs_background": "light"
     },
     "output_type": "display_data"
    }
   ],
   "source": [
    "importances = clf_wo_draw.coef_[0]\n",
    "\n",
    "# Create dictionnary\n",
    "feature_importance = dict([(col, imp) for col, imp in zip(predictors, importances)])\n",
    "\n",
    "# Sort by importance\n",
    "sorted_keys = sorted(feature_importance, key=feature_importance.get)\n",
    "sorted_feature_importance = {}\n",
    "\n",
    "for key in sorted_keys:\n",
    "    sorted_feature_importance[key] = feature_importance[key]\n",
    "\n",
    "# plot feature importance\n",
    "plt.barh(list(sorted_feature_importance.keys()), list(sorted_feature_importance.values()))"
   ]
  },
  {
   "cell_type": "markdown",
   "metadata": {},
   "source": [
    "**Interpretation**\n",
    "\n",
    "As we can see on the ***first three graphs***, **the shots on goal** are very important. This sounds logical since you need a shot on target in order to score a goal and the more on goal attempt you have, the most likely a team can succeed in scoring goals.\n",
    "\n",
    "In ***two of the graphs*** the feature **saves** is second. This result is actually more surprising since this stat is usually overlooked. But if a team has many attempt on target and that the opposing goal keeper manages to stop all the shots then it makes sense to have this feature being considered important.\n",
    "\n",
    "Concerning the ***Random Forest*** the feature saves is not considered as important, with **shots inside box**, **shots total** and **shots off goal** being placed higher. This again makes perfect sense since you have more chances to score while being closer to the goal and we can see that in general the shots statistics seem to be the most relevant ones.\n",
    "\n",
    "If we look at the coefficient of the ***Logistic Regression*** it reveals the same important stats: saves, shots total, shots on goal and shot inside box. But here the feature **penalties** seems to have even more weight. And again it makes sense since you have much higher chances of winning a game if you have a penalty, at least the player would score a goal 80% of the time (sources: [here](https://www.researchgate.net/publication/308873835_A_Quantitative_Analysis_of_Penalty-Kicks_in_the_English_Premier_League#:~:text=A%20goal%20was%20scored%20in,%2C%20whereas%2020.5%25%20were%20unsuccessful.) and [here](https://blog.innerdrive.co.uk/sports/the-psychology-of-perfect-penalties#:~:text=Research%20shows%20that%20if%20a,the%20outcome%20of%20the%20match.)). We were actually quite surprised to not have this stat being pointed in the other graphs, and that might be because there is way less penalties shot per season compared to the other features.\n",
    "\n",
    "On the other hands it seems that having more shots off goal and red cards will make you lose the game according to the last graph (Logistic Regression).\n",
    "\n",
    "Stats to win:\n",
    "- shots on goal\n",
    "- saves\n",
    "- shots in general\n",
    "- penalties\n",
    "\n",
    "---\n",
    "\n",
    "**Results vs expected output**\n",
    "\n",
    "The results are very interesting and reflect the believe we had about some stats importance (about the shots in particular). Some other were unexpected like the feature saves.\n",
    "\n",
    "However we were expecting to find more weight in features about passes, they have not shown to be impactful for our models. Likewise for the penalties and red cards."
   ]
  },
  {
   "cell_type": "markdown",
   "metadata": {},
   "source": [
    "## 6. Final thoughts, conclusion\n",
    "\n",
    "Football is not the most stats driven sport out there. A match outcome can be the result of a lot of different scenarios with luck, misfortune, unexpected game winning counter attack, penalties, etc... The winner can be decided on one good play or a nice free kick even if the team was behind the entire game. You can lead a match with many passes, shots on target, corners, dangerous attacks and still not be  able to score, which can result in a draw or a loss.\n",
    "\n",
    "That's also why we think our multiclass classification didn't have a good accuracy. **A draw game often does not result in a close match statistically, most of the time the dominating team just didn't find a way to score (or to score more).** Football is one of the only sport where there is that many draw games, but mostly, matches are not close statistically. You can even have better stats and lose. That could never be possible in basketball for example.\n",
    "\n",
    "When we switch to a binary classification we had way better results since decisive games had clearer stats that could show us the winner or loser. So we can access that having more shots on target, saves, other type of shots and penalties will most likely make you won the game.\n",
    "\n",
    "To conclude, football is a sport exciting and beautiful to watch. The outcome of a game is always unpredictable and you cannot summarize it on a simple spreadsheet. You have to live it to get it."
   ]
  }
 ],
 "metadata": {
  "interpreter": {
   "hash": "d392c9ddaa6b365e1706bdbc6bd2786d403f6271a103ff8a7f34ee918c5830ad"
  },
  "kernelspec": {
   "display_name": "Python 3 (ipykernel)",
   "language": "python",
   "name": "python3"
  },
  "language_info": {
   "codemirror_mode": {
    "name": "ipython",
    "version": 3
   },
   "file_extension": ".py",
   "mimetype": "text/x-python",
   "name": "python",
   "nbconvert_exporter": "python",
   "pygments_lexer": "ipython3",
   "version": "3.9.6"
  }
 },
 "nbformat": 4,
 "nbformat_minor": 2
}
